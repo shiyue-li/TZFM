{
 "cells": [
  {
   "cell_type": "code",
   "execution_count": 30,
   "metadata": {},
   "outputs": [],
   "source": [
    "from itertools import combinations\n",
    "\n",
    "load(\"derivative.sage\")\n",
    "load(\"matroidzeta.sage\")"
   ]
  },
  {
   "cell_type": "code",
   "execution_count": 31,
   "metadata": {},
   "outputs": [],
   "source": [
    "# Relax a matroid\n",
    "# This is honestly terrible code; it switches between containers a billion times\n",
    "def relax_circuit_hyperplane(M):\n",
    "\n",
    "    # Get circuits and hyperplanes\n",
    "    circuits = [tuple(c) for c in sorted([sorted(C) for C in M.circuits()])]\n",
    "    hyperplanes = [tuple(h) for h in sorted([sorted(F) for F in M.hyperplanes()])]\n",
    "    bases = [sorted (B) for B in M.bases()]\n",
    "\n",
    "    # Find circuit-hyperplanes\n",
    "    circuit_hyperplanes = list(set(circuits).intersection(hyperplanes))\n",
    "\n",
    "    # Return if nothing to relax\n",
    "    if not circuit_hyperplanes:\n",
    "        print('No circuit hyperplanes to relax!')\n",
    "        return None\n",
    "    \n",
    "    # Print circuit-hyperplanes\n",
    "    for ch in enumerate(circuit_hyperplanes):\n",
    "        print('{0}: '.format(ch[0]) + str(ch[1]))\n",
    "\n",
    "    # Get circuit-hyperplane to relax\n",
    "    ch = list(circuit_hyperplanes[int(input())])\n",
    "    \n",
    "    #print(bases)\n",
    "\n",
    "    # Add it as a basis and create new list\n",
    "    bases.append(ch)\n",
    "    #new_bases = [''.join(l) for l in bases]\n",
    "    \n",
    "    return Matroid(bases=bases)\n",
    "\n",
    "# cdgh is the circuit-hyperplane to relax to get Vamos from NonVamos\n",
    "# NV = matroids.named_matroids.NonVamos()\n",
    "# V = relax_circuit_hyperplane(NV)\n",
    "# if V.is_isomorphic(matroids.named_matroids.Vamos()):\n",
    "#    print('NonVamos successfully relaxed to Vamos')\n",
    "\n",
    "# Get Pappus\n",
    "# P = matroids.named_matroids.Pappus()\n",
    "\n",
    "# Plot Pappus to find to relax\n",
    "# pos = {'a':(0,2), 'b': (1,2), 'c':(2,2), 'd':(0,0), 'e':(1,0), 'f':(2,0), 'g':(.5,1),'h':(1,1), 'i':(1.5,1)}\n",
    "# P.plot(pos_method=1, pos_dict=pos)\n",
    "\n",
    "# Relax Pappus and check\n",
    "# NP = relax_circuit_hyperplane(P)\n",
    "# if NP.is_isomorphic(matroids.named_matroids.NonPappus()):\n",
    "#    print('Pappus successfully relaxed to NonPappus')"
   ]
  },
  {
   "cell_type": "code",
   "execution_count": 32,
   "metadata": {},
   "outputs": [],
   "source": [
    "def dependent_sets_zeta(M, zeta=False):\n",
    "    \n",
    "    # Print relevant information\n",
    "    print('Dependent sets per cardinality for M({0},{1}):'.format(M.rank(), M.size()), \n",
    "          [len(M.dependent_r_sets(r)) for r in range(0, M.rank()+1)])\n",
    "    \n",
    "    if zeta:\n",
    "        print('TZF for M: ', tzf(M))"
   ]
  },
  {
   "cell_type": "code",
   "execution_count": 33,
   "metadata": {},
   "outputs": [
    {
     "name": "stdout",
     "output_type": "stream",
     "text": [
      "Dependent sets per cardinality for M(3,5): [0, 0, 3, 7]\n",
      "TZF for M:  1/3/(s^3 + 7/3*s^2 + 5/3*s + 1/3)\n",
      "Z_M1^(0)(0) = 1,\t Z_M2^(0)(0) = 1\t(0)\n",
      "Z_M1^(1)(0) = 5,\t Z_M2^(1)(0) = 5\t(0)\n",
      "Z_M1^(2)(0) = 36,\t Z_M2^(2)(0) = 30\t(6)\n",
      "Z_M1^(3)(0) = 348,\t Z_M2^(3)(0) = 210\t(138)\n"
     ]
    }
   ],
   "source": [
    "g = Matroid(Graph([(0,1,1), (0,1,2), (0,1,3), (1,2,1), (2,3,1)], multiedges=True))\n",
    "dependent_sets_zeta(g, True)\n",
    "compare_derivatives(3, g)"
   ]
  },
  {
   "cell_type": "code",
   "execution_count": 42,
   "metadata": {},
   "outputs": [
    {
     "name": "stdout",
     "output_type": "stream",
     "text": [
      "Matroid index: 0\n",
      "Z_M1^(0)(0) = 1,\t Z_M2^(0)(0) = 1\t(0)\n",
      "Z_M1^(1)(0) = 5,\t Z_M2^(1)(0) = 5\t(0)\n",
      "Z_M1^(2)(0) = 36,\t Z_M2^(2)(0) = 30\t(6)\n",
      "Z_M1^(3)(0) = 348,\t Z_M2^(3)(0) = 210\t(138)\n",
      "Matroid index: 1\n",
      "Z_M1^(0)(0) = 1,\t Z_M2^(0)(0) = 1\t(0)\n",
      "Z_M1^(1)(0) = 5,\t Z_M2^(1)(0) = 5\t(0)\n",
      "Z_M1^(2)(0) = 34,\t Z_M2^(2)(0) = 30\t(4)\n",
      "Z_M1^(3)(0) = 294,\t Z_M2^(3)(0) = 210\t(84)\n",
      "Matroid index: 2\n",
      "Z_M1^(0)(0) = 1,\t Z_M2^(0)(0) = 1\t(0)\n",
      "Z_M1^(1)(0) = 5,\t Z_M2^(1)(0) = 5\t(0)\n",
      "Z_M1^(2)(0) = 32,\t Z_M2^(2)(0) = 30\t(2)\n",
      "Z_M1^(3)(0) = 258,\t Z_M2^(3)(0) = 210\t(48)\n",
      "Matroid index: 3\n",
      "Z_M1^(0)(0) = 1,\t Z_M2^(0)(0) = 1\t(0)\n",
      "Z_M1^(1)(0) = 5,\t Z_M2^(1)(0) = 5\t(0)\n",
      "Z_M1^(2)(0) = 32,\t Z_M2^(2)(0) = 30\t(2)\n",
      "Z_M1^(3)(0) = 255,\t Z_M2^(3)(0) = 210\t(45)\n",
      "Matroid index: 4\n",
      "Z_M1^(0)(0) = 1,\t Z_M2^(0)(0) = 1\t(0)\n",
      "Z_M1^(1)(0) = 5,\t Z_M2^(1)(0) = 5\t(0)\n",
      "Z_M1^(2)(0) = 32,\t Z_M2^(2)(0) = 30\t(2)\n",
      "Z_M1^(3)(0) = 252,\t Z_M2^(3)(0) = 210\t(42)\n"
     ]
    }
   ],
   "source": [
    "# Gets all matroids of a given rank and ground set size (up to isomorphism)\n",
    "# by checking all possibe basis combinations \n",
    "def get_matroids(r, n):\n",
    "    \n",
    "    res = []\n",
    "    res_2 = []\n",
    "    \n",
    "    # from itertools\n",
    "    sets = combinations(list(range(n)), r)\n",
    "    \n",
    "    # Iterate through power set of subsets\n",
    "    for b in powerset(sets):\n",
    "        \n",
    "        # Skip empty\n",
    "        if not b:\n",
    "            continue\n",
    "    \n",
    "        # Make matroid, see if it is valid\n",
    "        M = Matroid(bases=b)\n",
    "        if M.is_valid() and M.size() == 5:\n",
    "            res.append(M)\n",
    "            \n",
    "    # Remove isomorphic copies\n",
    "    while len(res) > 0:\n",
    "        res_2.append(res[0])\n",
    "        res = [m for m in res[1:] if not m.is_isomorphic(res[0])]\n",
    "\n",
    "    return res_2\n",
    "\n",
    "# Get the set of dependent matroid we would want\n",
    "M = get_matroids(3,5)\n",
    "M2 = [m for m in M if len(m.dependent_r_sets(2)) > 0]\n",
    "  \n",
    "for i, m in enumerate(M2):\n",
    "    print('Matroid index: {0}'.format(i))\n",
    "    compare_derivatives(3, m)"
   ]
  }
 ],
 "metadata": {
  "kernelspec": {
   "display_name": "SageMath 9.1",
   "language": "sage",
   "name": "sagemath"
  },
  "language_info": {
   "codemirror_mode": {
    "name": "ipython",
    "version": 3
   },
   "file_extension": ".py",
   "mimetype": "text/x-python",
   "name": "python",
   "nbconvert_exporter": "python",
   "pygments_lexer": "ipython3",
   "version": "3.7.3"
  }
 },
 "nbformat": 4,
 "nbformat_minor": 2
}
