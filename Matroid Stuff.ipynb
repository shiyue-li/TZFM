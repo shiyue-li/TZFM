{
 "cells": [
  {
   "cell_type": "code",
   "execution_count": 103,
   "metadata": {
    "scrolled": true
   },
   "outputs": [],
   "source": [
    "from itertools import combinations\n",
    "\n",
    "load('derivative.sage')\n",
    "load('matroidzeta.sage')\n",
    "load('fan.sage')"
   ]
  },
  {
   "cell_type": "code",
   "execution_count": 31,
   "metadata": {
    "scrolled": true
   },
   "outputs": [],
   "source": [
    "# Relax a matroid\n",
    "# This is honestly terrible code; it switches between containers a billion times\n",
    "def relax_circuit_hyperplane(M):\n",
    "\n",
    "    # Get circuits and hyperplanes\n",
    "    circuits = [tuple(c) for c in sorted([sorted(C) for C in M.circuits()])]\n",
    "    hyperplanes = [tuple(h) for h in sorted([sorted(F) for F in M.hyperplanes()])]\n",
    "    bases = [sorted (B) for B in M.bases()]\n",
    "\n",
    "    # Find circuit-hyperplanes\n",
    "    circuit_hyperplanes = list(set(circuits).intersection(hyperplanes))\n",
    "\n",
    "    # Return if nothing to relax\n",
    "    if not circuit_hyperplanes:\n",
    "        print('No circuit hyperplanes to relax!')\n",
    "        return None\n",
    "    \n",
    "    # Print circuit-hyperplanes\n",
    "    for ch in enumerate(circuit_hyperplanes):\n",
    "        print('{0}: '.format(ch[0]) + str(ch[1]))\n",
    "\n",
    "    # Get circuit-hyperplane to relax\n",
    "    ch = list(circuit_hyperplanes[int(input())])\n",
    "    \n",
    "    #print(bases)\n",
    "\n",
    "    # Add it as a basis and create new list\n",
    "    bases.append(ch)\n",
    "    #new_bases = [''.join(l) for l in bases]\n",
    "    \n",
    "    return Matroid(bases=bases)"
   ]
  },
  {
   "cell_type": "code",
   "execution_count": 125,
   "metadata": {
    "scrolled": true
   },
   "outputs": [],
   "source": [
    "def dependent_sets_zeta(M, zeta=False):\n",
    "    \n",
    "    print('Matroid Rank: {0}, Matroid Size: {1}.'.format(M.rank(), M.size()))\n",
    "    print('Entry (i, j) is the number of cardinality j, rank i dependent sets (one indexed):')\n",
    "    \n",
    "    # Get array of 0s\n",
    "    res = [ [0] * (M.rank()+1) for _ in range(M.rank()) ]\n",
    "    \n",
    "    # Get dependent sets\n",
    "    dep_sets = [M.dependent_r_sets(r) for r in range(0, M.rank()+1)]\n",
    "    \n",
    "    # Split dependent sets by rank\n",
    "    for r, dep_set in enumerate(dep_sets):\n",
    "        for dep in dep_set:\n",
    "            res[M.rank(dep)][r] += 1\n",
    "    \n",
    "    # Print array\n",
    "    for row in res[1:]:\n",
    "        print(row[1:])\n",
    "    \n",
    "    if zeta:\n",
    "        print('TZF for M: ', tzf(M))"
   ]
  },
  {
   "cell_type": "code",
   "execution_count": 126,
   "metadata": {
    "scrolled": true
   },
   "outputs": [
    {
     "data": {
      "image/png": "[encoded data removed]",
      "text/plain": [
       "Graphics object consisting of 10 graphics primitives"
      ]
     },
     "metadata": {},
     "output_type": "display_data"
    },
    {
     "name": "stdout",
     "output_type": "stream",
     "text": [
      "Matroid Rank: 3, Matroid Size: 5.\n",
      "Entry (i, j) is the number of cardinality j, rank i dependent sets (one indexed):\n",
      "[0, 3, 1]\n",
      "[0, 0, 6]\n"
     ]
    }
   ],
   "source": [
    "g = Graph([(0,1,1), (0,1,2), (0,1,3), (1,2,1), (2,3,1)], multiedges=True)\n",
    "g.plot().show()\n",
    "m = Matroid(g)\n",
    "dependent_sets_zeta(m)"
   ]
  },
  {
   "cell_type": "code",
   "execution_count": 93,
   "metadata": {},
   "outputs": [],
   "source": [
    "# Displays a matroid\n",
    "def display_matroid(M, d):\n",
    "    if M.rank() <= 3:\n",
    "        M.plot().show()\n",
    "    compare_derivatives(d, M)\n",
    "    dependent_sets_zeta(M)\n",
    "    print('')"
   ]
  },
  {
   "cell_type": "code",
   "execution_count": 127,
   "metadata": {
    "scrolled": false
   },
   "outputs": [
    {
     "name": "stdout",
     "output_type": "stream",
     "text": [
      "Matroid index: 0\n",
      "Z_M1^(0)(0) = 1,\t Z_M2^(0)(0) = 1\t(0)\n",
      "Z_M1^(1)(0) = 6,\t Z_M2^(1)(0) = 6\t(0)\n",
      "Z_M1^(2)(0) = 48,\t Z_M2^(2)(0) = 42\t(6)\n",
      "Z_M1^(3)(0) = 492,\t Z_M2^(3)(0) = 336\t(156)\n",
      "Z_M1^(4)(0) = 6264,\t Z_M2^(4)(0) = 3024\t(3240)\n",
      "Matroid Rank: 4, Matroid Size: 6.\n",
      "Entry (i, j) is the number of cardinality j, rank i dependent sets (one indexed):\n",
      "[0, 3, 1, 0]\n",
      "[0, 0, 9, 3]\n",
      "[0, 0, 0, 9]\n",
      "\n",
      "Matroid index: 1\n",
      "Z_M1^(0)(0) = 1,\t Z_M2^(0)(0) = 1\t(0)\n",
      "Z_M1^(1)(0) = 6,\t Z_M2^(1)(0) = 6\t(0)\n",
      "Z_M1^(2)(0) = 46,\t Z_M2^(2)(0) = 42\t(4)\n",
      "Z_M1^(3)(0) = 432,\t Z_M2^(3)(0) = 336\t(96)\n",
      "Z_M1^(4)(0) = 4824,\t Z_M2^(4)(0) = 3024\t(1800)\n",
      "Matroid Rank: 4, Matroid Size: 6.\n",
      "Entry (i, j) is the number of cardinality j, rank i dependent sets (one indexed):\n",
      "[0, 2, 0, 0]\n",
      "[0, 0, 8, 1]\n",
      "[0, 0, 0, 10]\n",
      "\n",
      "Matroid index: 2\n",
      "Z_M1^(0)(0) = 1,\t Z_M2^(0)(0) = 1\t(0)\n",
      "Z_M1^(1)(0) = 6,\t Z_M2^(1)(0) = 6\t(0)\n",
      "Z_M1^(2)(0) = 44,\t Z_M2^(2)(0) = 42\t(2)\n",
      "Z_M1^(3)(0) = 390,\t Z_M2^(3)(0) = 336\t(54)\n",
      "Z_M1^(4)(0) = 4104,\t Z_M2^(4)(0) = 3024\t(1080)\n",
      "Matroid Rank: 4, Matroid Size: 6.\n",
      "Entry (i, j) is the number of cardinality j, rank i dependent sets (one indexed):\n",
      "[0, 1, 0, 0]\n",
      "[0, 0, 6, 1]\n",
      "[0, 0, 0, 9]\n",
      "\n",
      "Matroid index: 3\n",
      "Z_M1^(0)(0) = 1,\t Z_M2^(0)(0) = 1\t(0)\n",
      "Z_M1^(1)(0) = 6,\t Z_M2^(1)(0) = 6\t(0)\n",
      "Z_M1^(2)(0) = 44,\t Z_M2^(2)(0) = 42\t(2)\n",
      "Z_M1^(3)(0) = 387,\t Z_M2^(3)(0) = 336\t(51)\n",
      "Z_M1^(4)(0) = 4002,\t Z_M2^(4)(0) = 3024\t(978)\n",
      "Matroid Rank: 4, Matroid Size: 6.\n",
      "Entry (i, j) is the number of cardinality j, rank i dependent sets (one indexed):\n",
      "[0, 1, 0, 0]\n",
      "[0, 0, 5, 0]\n",
      "[0, 0, 0, 9]\n",
      "\n",
      "Matroid index: 4\n",
      "Z_M1^(0)(0) = 1,\t Z_M2^(0)(0) = 1\t(0)\n",
      "Z_M1^(1)(0) = 6,\t Z_M2^(1)(0) = 6\t(0)\n",
      "Z_M1^(2)(0) = 44,\t Z_M2^(2)(0) = 42\t(2)\n",
      "Z_M1^(3)(0) = 384,\t Z_M2^(3)(0) = 336\t(48)\n",
      "Z_M1^(4)(0) = 3928,\t Z_M2^(4)(0) = 3024\t(904)\n",
      "Matroid Rank: 4, Matroid Size: 6.\n",
      "Entry (i, j) is the number of cardinality j, rank i dependent sets (one indexed):\n",
      "[0, 1, 0, 0]\n",
      "[0, 0, 4, 0]\n",
      "[0, 0, 0, 8]\n",
      "\n",
      "Matroid index: 5\n",
      "Z_M1^(0)(0) = 1,\t Z_M2^(0)(0) = 1\t(0)\n",
      "Z_M1^(1)(0) = 6,\t Z_M2^(1)(0) = 6\t(0)\n",
      "Z_M1^(2)(0) = 44,\t Z_M2^(2)(0) = 42\t(2)\n",
      "Z_M1^(3)(0) = 384,\t Z_M2^(3)(0) = 336\t(48)\n",
      "Z_M1^(4)(0) = 3920,\t Z_M2^(4)(0) = 3024\t(896)\n",
      "Matroid Rank: 4, Matroid Size: 6.\n",
      "Entry (i, j) is the number of cardinality j, rank i dependent sets (one indexed):\n",
      "[0, 1, 0, 0]\n",
      "[0, 0, 4, 0]\n",
      "[0, 0, 0, 7]\n",
      "\n",
      "Matroid index: 6\n",
      "Z_M1^(0)(0) = 1,\t Z_M2^(0)(0) = 1\t(0)\n",
      "Z_M1^(1)(0) = 6,\t Z_M2^(1)(0) = 6\t(0)\n",
      "Z_M1^(2)(0) = 44,\t Z_M2^(2)(0) = 42\t(2)\n",
      "Z_M1^(3)(0) = 384,\t Z_M2^(3)(0) = 336\t(48)\n",
      "Z_M1^(4)(0) = 3912,\t Z_M2^(4)(0) = 3024\t(888)\n",
      "Matroid Rank: 4, Matroid Size: 6.\n",
      "Entry (i, j) is the number of cardinality j, rank i dependent sets (one indexed):\n",
      "[0, 1, 0, 0]\n",
      "[0, 0, 4, 0]\n",
      "[0, 0, 0, 6]\n",
      "\n"
     ]
    }
   ],
   "source": [
    "# Gets all matroids of a given rank and ground set size (up to isomorphism)\n",
    "# by checking all possibe basis combinations \n",
    "def get_matroids(r, n):\n",
    "    \n",
    "    res = []\n",
    "    res_2 = []\n",
    "    \n",
    "    # from itertools\n",
    "    sets = combinations(list(range(n)), r)\n",
    "    \n",
    "    # Iterate through power set of subsets\n",
    "    for b in powerset(sets):\n",
    "        \n",
    "        # Don't use empty\n",
    "        if not b:\n",
    "            continue\n",
    "\n",
    "        # Make matroid, see if it is valid\n",
    "        M = Matroid(bases=b)\n",
    "        if M.size() == n and M.is_valid():\n",
    "            res.append(M)\n",
    "            \n",
    "    # Remove isomorphic copies\n",
    "    while len(res) > 0:\n",
    "        res_2.append(res[0])\n",
    "        res = [m for m in res[1:] if not m.is_isomorphic(res[0])]\n",
    "    return res_2\n",
    "\n",
    "# Get the set of dependent matroid we would want\n",
    "M = get_matroids(4,6)\n",
    "\n",
    "M2 = [m for m in M if len(m.dependent_r_sets(2)) > 0]\n",
    "  \n",
    "for i, m in enumerate(M2):\n",
    "    print('Matroid index: {0}'.format(i))\n",
    "    display_matroid(m, 4)"
   ]
  },
  {
   "cell_type": "code",
   "execution_count": 128,
   "metadata": {},
   "outputs": [
    {
     "data": {
      "image/png": "[encoded data removed]",
      "text/plain": [
       "Graphics object consisting of 12 graphics primitives"
      ]
     },
     "metadata": {},
     "output_type": "display_data"
    },
    {
     "name": "stdout",
     "output_type": "stream",
     "text": [
      "Z_M1^(0)(0) = 1,\t Z_M2^(0)(0) = 1\t(0)\n",
      "Z_M1^(1)(0) = 6,\t Z_M2^(1)(0) = 6\t(0)\n",
      "Z_M1^(2)(0) = 44,\t Z_M2^(2)(0) = 42\t(2)\n",
      "Z_M1^(3)(0) = 387,\t Z_M2^(3)(0) = 336\t(51)\n",
      "Z_M1^(4)(0) = 4002,\t Z_M2^(4)(0) = 3024\t(978)\n",
      "Matroid Rank: 4, Matroid Size: 6.\n",
      "Entry (i, j) is the number of cardinality j, rank i dependent sets (one indexed):\n",
      "[0, 1, 0, 0]\n",
      "[0, 0, 5, 0]\n",
      "[0, 0, 0, 9]\n",
      "\n"
     ]
    },
    {
     "data": {
      "image/png": "[encoded data removed]",
      "text/plain": [
       "Graphics object consisting of 12 graphics primitives"
      ]
     },
     "metadata": {},
     "output_type": "display_data"
    },
    {
     "name": "stdout",
     "output_type": "stream",
     "text": [
      "Z_M1^(0)(0) = 1,\t Z_M2^(0)(0) = 1\t(0)\n",
      "Z_M1^(1)(0) = 6,\t Z_M2^(1)(0) = 6\t(0)\n",
      "Z_M1^(2)(0) = 44,\t Z_M2^(2)(0) = 42\t(2)\n",
      "Z_M1^(3)(0) = 390,\t Z_M2^(3)(0) = 336\t(54)\n",
      "Z_M1^(4)(0) = 4104,\t Z_M2^(4)(0) = 3024\t(1080)\n",
      "Matroid Rank: 4, Matroid Size: 6.\n",
      "Entry (i, j) is the number of cardinality j, rank i dependent sets (one indexed):\n",
      "[0, 1, 0, 0]\n",
      "[0, 0, 6, 1]\n",
      "[0, 0, 0, 9]\n",
      "\n"
     ]
    },
    {
     "data": {
      "image/png": "[encoded data removed]",
      "text/plain": [
       "Graphics object consisting of 12 graphics primitives"
      ]
     },
     "metadata": {},
     "output_type": "display_data"
    },
    {
     "name": "stdout",
     "output_type": "stream",
     "text": [
      "Z_M1^(0)(0) = 1,\t Z_M2^(0)(0) = 1\t(0)\n",
      "Z_M1^(1)(0) = 6,\t Z_M2^(1)(0) = 6\t(0)\n",
      "Z_M1^(2)(0) = 44,\t Z_M2^(2)(0) = 42\t(2)\n",
      "Z_M1^(3)(0) = 384,\t Z_M2^(3)(0) = 336\t(48)\n",
      "Z_M1^(4)(0) = 3920,\t Z_M2^(4)(0) = 3024\t(896)\n",
      "Matroid Rank: 4, Matroid Size: 6.\n",
      "Entry (i, j) is the number of cardinality j, rank i dependent sets (one indexed):\n",
      "[0, 1, 0, 0]\n",
      "[0, 0, 4, 0]\n",
      "[0, 0, 0, 7]\n",
      "\n"
     ]
    }
   ],
   "source": [
    "# Finds D(42) and D(32) for fourth derivative\n",
    "# Create a graphic matroid\n",
    "G = Graph([(0,1,1), (0,1,2),(1,2,1),(2,3,1), (2,4,1),(3,4,1)], multiedges=True)\n",
    "G.plot().show()\n",
    "M = Matroid(G)\n",
    "display_matroid(M, 4)\n",
    "\n",
    "G2 = Graph([(0,1,1), (3,4,2),(1,2,1),(2,3,1), (2,4,1),(3,4,1)], multiedges=True)\n",
    "G2.plot().show()\n",
    "M2 = Matroid(G2)\n",
    "display_matroid(M2, 4)\n",
    "\n",
    "G3 = Graph([(0,1,1), (0,1,2),(1,2,1),(2,3,1), (3,4,1),(1,4,1)], multiedges=True)\n",
    "G3.plot().show()\n",
    "M3 = Matroid(G3)\n",
    "display_matroid(M3, 4)"
   ]
  },
  {
   "cell_type": "code",
   "execution_count": null,
   "metadata": {},
   "outputs": [],
   "source": [
    "# Finds D31 and D21 for fourth derivative\n"
   ]
  },
  {
   "cell_type": "code",
   "execution_count": 77,
   "metadata": {},
   "outputs": [],
   "source": [
    "def compute_fans(n):\n",
    "    for i in range(0, n+1):\n",
    "        if len(fan_tzfs) == i:\n",
    "            z = tzf_fan(i)\n",
    "            fan_tzfs.append(z)\n",
    "def tzf_wheel(n):\n",
    "    R.<s> = QQ['s']\n",
    "    \n",
    "    # cycle through some base cases ...\n",
    "    if (n == 0):\n",
    "        return 1\n",
    "    elif (n == 1):\n",
    "        return 1/(1+s)\n",
    "\n",
    "    # prepare the fans for recursion...\n",
    "    compute_fans(n-1)\n",
    "\n",
    "    single_sum = 0\n",
    "    for k in range(1, n):\n",
    "        single_sum += ((-s)/(s+1))^(n-k-1) * fan_tzfs[k]\n",
    "        \n",
    "    # Simplified binomial sum\n",
    "    non_fans = (((1-n)/(s+1)^n) * ((-s)^n-n*(-s-1)-1)) + ((n/(s+1)^n) * ((-s)^(n-1)-(n-1)*(-s-1)-1))\n",
    "    \n",
    "    # Note: the n = 2 triangle is a special case because the edges\n",
    "    # around the wheel do not form a closed path\n",
    "    if ( n > 2):\n",
    "        # Brute force add cyclic matroid final case\n",
    "        non_fans += ((-s)^n-1-n*(-s-1)) / ((n*s+n-1) * (s+1)^n)\n",
    "    elif (n == 2):\n",
    "        non_fans += 1/(1+s)\n",
    "\n",
    "    total = n * single_sum + non_fans\n",
    "\n",
    "    # scale the sum accordingly by the rank and size of the groundset\n",
    "    if (n > 2):\n",
    "        total = total * 1/(2*n*s + n)\n",
    "    elif (n == 2):\n",
    "        total = total / (3*s + 2)\n",
    "\n",
    "    return total"
   ]
  },
  {
   "cell_type": "code",
   "execution_count": 78,
   "metadata": {},
   "outputs": [
    {
     "data": {
      "text/plain": [
       "(-5/12*s^11 - 431/540*s^10 - 169/810*s^9 + 1627/34020*s^8 - 10421/34020*s^7 + 275/2268*s^6 + 11077/34020*s^5 - 7687/34020*s^4 - 2701/11340*s^3 + 1123/8505*s^2 + 265/1701*s + 20/567)/(s^12 + 2959/315*s^11 + 151979/3780*s^10 + 1175633/11340*s^9 + 6101191/34020*s^8 + 7459127/34020*s^7 + 2202679/11340*s^6 + 4273901/34020*s^5 + 2002849/34020*s^4 + 3509/180*s^3 + 36823/8505*s^2 + 985/1701*s + 20/567)"
      ]
     },
     "execution_count": 78,
     "metadata": {},
     "output_type": "execute_result"
    }
   ],
   "source": [
    "tzf_wheel(6)"
   ]
  },
  {
   "cell_type": "code",
   "execution_count": null,
   "metadata": {},
   "outputs": [],
   "source": []
  }
 ],
 "metadata": {
  "kernelspec": {
   "display_name": "SageMath 9.1",
   "language": "sage",
   "name": "sagemath"
  },
  "language_info": {
   "codemirror_mode": {
    "name": "ipython",
    "version": 3
   },
   "file_extension": ".py",
   "mimetype": "text/x-python",
   "name": "python",
   "nbconvert_exporter": "python",
   "pygments_lexer": "ipython3",
   "version": "3.7.3"
  }
 },
 "nbformat": 4,
 "nbformat_minor": 2
}
