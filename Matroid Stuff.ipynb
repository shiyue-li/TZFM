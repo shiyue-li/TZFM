{
 "cells": [
  {
   "cell_type": "code",
   "execution_count": 35,
   "metadata": {},
   "outputs": [],
   "source": [
    "# Relax a matroid\n",
    "# This is honestly terrible code; it switches between containers a billion times\n",
    "def relax_circuit_hyperplane(M):\n",
    "\n",
    "    # Get circuits and hyperplanes\n",
    "    circuits = [tuple(c) for c in sorted([sorted(C) for C in M.circuits()])]\n",
    "    hyperplanes = [tuple(h) for h in sorted([sorted(F) for F in M.hyperplanes()])]\n",
    "    bases = [sorted (B) for B in M.bases()]\n",
    "\n",
    "    # Find circuit-hyperplanes\n",
    "    circuit_hyperplanes = list(set(circuits).intersection(hyperplanes))\n",
    "\n",
    "    # Return if nothing to relax\n",
    "    if not circuit_hyperplanes:\n",
    "        print('No circuit hyperplanes to relax!')\n",
    "        return None\n",
    "    \n",
    "    # Print circuit-hyperplanes\n",
    "    for ch in enumerate(circuit_hyperplanes):\n",
    "        print('{0}: '.format(ch[0]) + str(ch[1]))\n",
    "\n",
    "    # Get circuit-hyperplane to relax\n",
    "    ch = list(circuit_hyperplanes[int(input())])\n",
    "    \n",
    "    #print(bases)\n",
    "\n",
    "    # Add it as a basis and create new list\n",
    "    bases.append(ch)\n",
    "    #new_bases = [''.join(l) for l in bases]\n",
    "    \n",
    "    return Matroid(bases=bases)\n",
    "\n",
    "# cdgh is the circuit-hyperplane to relax to get Vamos from NonVamos\n",
    "# NV = matroids.named_matroids.NonVamos()\n",
    "# V = relax_circuit_hyperplane(NV)\n",
    "# if V.is_isomorphic(matroids.named_matroids.Vamos()):\n",
    "#    print('NonVamos successfully relaxed to Vamos')\n",
    "\n",
    "# Get Pappus\n",
    "# P = matroids.named_matroids.Pappus()\n",
    "\n",
    "# Plot Pappus to find to relax\n",
    "# pos = {'a':(0,2), 'b': (1,2), 'c':(2,2), 'd':(0,0), 'e':(1,0), 'f':(2,0), 'g':(.5,1),'h':(1,1), 'i':(1.5,1)}\n",
    "# P.plot(pos_method=1, pos_dict=pos)\n",
    "\n",
    "# Relax Pappus and check\n",
    "# NP = relax_circuit_hyperplane(P)\n",
    "# if NP.is_isomorphic(matroids.named_matroids.NonPappus()):\n",
    "#    print('Pappus successfully relaxed to NonPappus')"
   ]
  },
  {
   "cell_type": "code",
   "execution_count": 24,
   "metadata": {},
   "outputs": [],
   "source": [
    "# MAX CODE FOR TZF\n",
    "# given a lattice L and a flag F in L containing at least the min and max\n",
    "# of L, xmf(L,F) is the product of reduced characteristic polynomials of\n",
    "# intevals in F, and xmf1(L,F) finds the value of this polynomial when you set\n",
    "# q = 1.\n",
    "\n",
    "def xmf(L,F):\n",
    "    l = len(F)\n",
    "    R.<q> = QQ['q']\n",
    "    numerator = product([posetify(L.interval(F[i],F[i+1])).characteristic_polynomial() for i in [0..(l-2)]])\n",
    "    denominator = (q - 1)^(l-1)\n",
    "    return (numerator/denominator)\n",
    "\n",
    "def xmf1(L,F):\n",
    "    l = len(F)\n",
    "    R.<q> = QQ['q']\n",
    "    numerator = product([posetify(L.interval(F[i],F[i+1])).characteristic_polynomial() for i in [0..(l-2)]])\n",
    "    denominator = (q - 1)^(l-1)\n",
    "    return (numerator/denominator)(1)\n",
    "\n",
    "# given a lattice L and a flag F in L containing at least the min and\n",
    "# max of L, trf(L,F) finds the rational function (in the variable s)\n",
    "# that you need when building the topological zeta function.\n",
    "def trf(L,F):\n",
    "    R.<s> = QQ['s']\n",
    "    rk = L.rank_function()\n",
    "    return product([1/((len(f))*s + rk(f)) for f in F if not f == L.bottom()])\n",
    "    \n",
    "# Utility: For a set S of subsets, form its associated poset w.r.t. containment\n",
    "def posetify(S):\n",
    "    return Poset((S,[[a,b] for a in S for b in S if a.issubset(b)]))\n",
    "\n",
    "def tzf(M):\n",
    "    L = M.lattice_of_flats()\n",
    "    flags = [c for c in L.chains() if len(c) > 0 and c[0] == L.bottom() and c[-1] == L.top()]\n",
    "    return sum([xmf1(L,f)*trf(L,f) for f in flags])"
   ]
  },
  {
   "cell_type": "code",
   "execution_count": 169,
   "metadata": {},
   "outputs": [],
   "source": [
    "def isets_zeta(M, zeta=False):\n",
    "\n",
    "    # Create relevant uniform matroid\n",
    "    unif = matroids.Uniform(M.rank(), M.size())\n",
    "    \n",
    "    # Print relevant information\n",
    "    print(M)\n",
    "    print([len(M.dependent_r_sets(r)) for r in range(0, M.rank()+1)])\n",
    "        \n",
    "    print(unif)\n",
    "    print([len(unif.dependent_r_sets(r)) for r in range(0, M.rank()+1)])\n",
    "    \n",
    "    if zeta:\n",
    "        print('TZF for M: ', tzf(M))"
   ]
  },
  {
   "cell_type": "code",
   "execution_count": 189,
   "metadata": {},
   "outputs": [
    {
     "name": "stdout",
     "output_type": "stream",
     "text": [
      "Graphic matroid of rank 3 on 5 elements\n",
      "[0, 0, 3, 7]\n",
      "U(3, 5): Matroid of rank 3 on 5 elements with circuit-closures\n",
      "{3: {{0, 1, 2, 3, 4}}}\n",
      "[0, 0, 0, 0]\n",
      "TZF for M:  1/3/(s^3 + 7/3*s^2 + 5/3*s + 1/3)\n"
     ]
    }
   ],
   "source": [
    "g = Matroid(Graph([(0,1,1), (0,1,2), (0,1,3), (1,2,1), (2,3,1)], multiedges=True))\n",
    "isets_zeta(g, True)"
   ]
  },
  {
   "cell_type": "code",
   "execution_count": 212,
   "metadata": {},
   "outputs": [
    {
     "data": {
      "text/plain": [
       "q^5 - 10*q^4 + 40*q^3 - 80*q^2 + 79*q - 30"
      ]
     },
     "execution_count": 212,
     "metadata": {},
     "output_type": "execute_result"
    }
   ],
   "source": [
    "g = Matroid(Graph([(0,1,1), (1,2,1), (1,2,2), (0,1,2), (1,2,3)], multiedges=True))\n",
    "\n",
    "\n",
    "matroids.Wheel(5).lattice_of_flats().characteristic_polynomial()\n",
    "#print(g.lattice_of_flats().characteristic_polynomial())"
   ]
  },
  {
   "cell_type": "code",
   "execution_count": 205,
   "metadata": {},
   "outputs": [
    {
     "data": {
      "text/plain": [
       "(-3/8*s^6 - 1/12*s^5 + 5/12*s^4 - 1/5*s^3 - 4/15*s^2 + 9/40*s + 3/20)/(s^7 + 331/60*s^6 + 1549/120*s^5 + 83/5*s^4 + 38/3*s^3 + 86/15*s^2 + 57/40*s + 3/20)"
      ]
     },
     "execution_count": 205,
     "metadata": {},
     "output_type": "execute_result"
    }
   ],
   "source": [
    "tzf(matroids.Wheel(4))"
   ]
  },
  {
   "cell_type": "code",
   "execution_count": 213,
   "metadata": {},
   "outputs": [
    {
     "data": {
      "text/plain": [
       "1/6/(s^2 + 5/6*s + 1/6)"
      ]
     },
     "execution_count": 213,
     "metadata": {},
     "output_type": "execute_result"
    }
   ],
   "source": [
    "tzf(Matroid(g))"
   ]
  },
  {
   "cell_type": "code",
   "execution_count": null,
   "metadata": {},
   "outputs": [],
   "source": []
  }
 ],
 "metadata": {
  "kernelspec": {
   "display_name": "SageMath 9.1",
   "language": "sage",
   "name": "sagemath"
  },
  "language_info": {
   "codemirror_mode": {
    "name": "ipython",
    "version": 3
   },
   "file_extension": ".py",
   "mimetype": "text/x-python",
   "name": "python",
   "nbconvert_exporter": "python",
   "pygments_lexer": "ipython3",
   "version": "3.7.3"
  }
 },
 "nbformat": 4,
 "nbformat_minor": 2
}
